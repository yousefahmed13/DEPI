{
  "cells": [
    {
      "cell_type": "markdown",
      "metadata": {
        "id": "O3uhQEw4Jqnt"
      },
      "source": [
        "# Gather Section (20 Questions, 40 Marks)\n",
        "\n",
        "You should have access to a file called TMDB.db. The first step to answering this set of questions will be to connect to this db file to access the data.\n",
        "\n",
        "![SQL Architectures](https://raw.githubusercontent.com/Explore-AI/Public-Data/master/image/TMDB_ERD.JPG)\n",
        "\n",
        "Before we start we need to load our SQL magic commands (we only need do this once per notebook):"
      ]
    },
    {
      "cell_type": "code",
      "source": [
        "import sqlite3"
      ],
      "metadata": {
        "id": "ZJss6xV9-JWN"
      },
      "execution_count": null,
      "outputs": []
    },
    {
      "cell_type": "code",
      "execution_count": null,
      "metadata": {
        "id": "tYyzGpQrJqnv"
      },
      "outputs": [],
      "source": [
        "%reload_ext sql"
      ]
    },
    {
      "cell_type": "markdown",
      "metadata": {
        "id": "ok5TGOw3Jqnw"
      },
      "source": [
        "\n",
        "\n",
        "\n",
        "Based on that data, answer the following questions:\n",
        "\n",
        "\n",
        "### Question 1\n",
        "What is the code you can use to connect to the TMDB database that is saved in a Colab notebook?\n"
      ]
    },
    {
      "cell_type": "code",
      "execution_count": null,
      "metadata": {
        "id": "bkHzM8QXJqnw"
      },
      "outputs": [],
      "source": [
        "# Your code here\n",
        "%sql sqlite:////content/drive/MyDrive/TMDB.db"
      ]
    },
    {
      "cell_type": "code",
      "source": [
        "%reload_ext sql\n",
        "#%sql sqlite:///TMDB.db"
      ],
      "metadata": {
        "id": "MpiLcC1U-4Uj"
      },
      "execution_count": null,
      "outputs": []
    },
    {
      "cell_type": "code",
      "source": [
        "from google.colab import drive\n",
        "drive.mount('/content/drive')"
      ],
      "metadata": {
        "colab": {
          "base_uri": "https://localhost:8080/"
        },
        "id": "BtdX9oHZ5bgM",
        "outputId": "99518c7f-101c-48e8-f2ee-084ae8c549ac"
      },
      "execution_count": null,
      "outputs": [
        {
          "output_type": "stream",
          "name": "stdout",
          "text": [
            "Mounted at /content/drive\n"
          ]
        }
      ]
    },
    {
      "cell_type": "code",
      "source": [
        "import sqlite3\n",
        "\n",
        "# إنشاء اتصال بقاعدة بيانات\n",
        "conn = sqlite3.connect('/content/drive/MyDrive/TMDB.db')\n",
        "\n",
        "# إنشاء جدول تجريبي\n",
        "#conn.execute('''\n",
        "#CREATE TABLE IF NOT EXISTS movies (\n",
        " #   id INTEGER PRIMARY KEY,\n",
        "  #  title TEXT NOT NULL\n",
        "#);\n",
        "#''')\n",
        "\n",
        "# إضافة بيانات\n",
        "#conn.execute('INSERT INTO movies (title) VALUES (\"Inception\")')\n",
        "#conn.commit()\n",
        "\n",
        "# إغلاق الاتصال\n",
        "#conn.close()\n"
      ],
      "metadata": {
        "id": "OTLZhebt_HBi"
      },
      "execution_count": null,
      "outputs": []
    },
    {
      "cell_type": "code",
      "source": [
        "%%sql\n",
        "SELECT name FROM sqlite_master WHERE type='table';"
      ],
      "metadata": {
        "colab": {
          "base_uri": "https://localhost:8080/",
          "height": 395
        },
        "id": "SyTC5O1f9jbC",
        "outputId": "9605e7e0-2911-455b-d800-e999043e85b9"
      },
      "execution_count": null,
      "outputs": [
        {
          "output_type": "stream",
          "name": "stdout",
          "text": [
            " * sqlite:////content/drive/MyDrive/TMDB.db\n",
            "Done.\n"
          ]
        },
        {
          "output_type": "execute_result",
          "data": {
            "text/plain": [
              "[('actors',),\n",
              " ('casts',),\n",
              " ('genremap',),\n",
              " ('genres',),\n",
              " ('keywordmap',),\n",
              " ('keywords',),\n",
              " ('languagemap',),\n",
              " ('languages',),\n",
              " ('movies',),\n",
              " ('oscars',),\n",
              " ('productioncompanies',),\n",
              " ('productioncompanymap',),\n",
              " ('productioncountries',),\n",
              " ('productioncountrymap',),\n",
              " ('sysdiagrams',)]"
            ],
            "text/html": [
              "<table>\n",
              "    <thead>\n",
              "        <tr>\n",
              "            <th>name</th>\n",
              "        </tr>\n",
              "    </thead>\n",
              "    <tbody>\n",
              "        <tr>\n",
              "            <td>actors</td>\n",
              "        </tr>\n",
              "        <tr>\n",
              "            <td>casts</td>\n",
              "        </tr>\n",
              "        <tr>\n",
              "            <td>genremap</td>\n",
              "        </tr>\n",
              "        <tr>\n",
              "            <td>genres</td>\n",
              "        </tr>\n",
              "        <tr>\n",
              "            <td>keywordmap</td>\n",
              "        </tr>\n",
              "        <tr>\n",
              "            <td>keywords</td>\n",
              "        </tr>\n",
              "        <tr>\n",
              "            <td>languagemap</td>\n",
              "        </tr>\n",
              "        <tr>\n",
              "            <td>languages</td>\n",
              "        </tr>\n",
              "        <tr>\n",
              "            <td>movies</td>\n",
              "        </tr>\n",
              "        <tr>\n",
              "            <td>oscars</td>\n",
              "        </tr>\n",
              "        <tr>\n",
              "            <td>productioncompanies</td>\n",
              "        </tr>\n",
              "        <tr>\n",
              "            <td>productioncompanymap</td>\n",
              "        </tr>\n",
              "        <tr>\n",
              "            <td>productioncountries</td>\n",
              "        </tr>\n",
              "        <tr>\n",
              "            <td>productioncountrymap</td>\n",
              "        </tr>\n",
              "        <tr>\n",
              "            <td>sysdiagrams</td>\n",
              "        </tr>\n",
              "    </tbody>\n",
              "</table>"
            ]
          },
          "metadata": {},
          "execution_count": 8
        }
      ]
    },
    {
      "cell_type": "markdown",
      "metadata": {
        "id": "JgRO7x1-Jqnx"
      },
      "source": [
        "### Question 2\n",
        "What is the primary key for the table “movies”?\n",
        "\n"
      ]
    },
    {
      "cell_type": "code",
      "source": [
        "%%sql\n",
        "PRAGMA table_info(movies);"
      ],
      "metadata": {
        "colab": {
          "base_uri": "https://localhost:8080/",
          "height": 395
        },
        "id": "sOLLIHp7RuSq",
        "outputId": "f9955b4e-fba9-4f61-974e-d544c3d7ad43"
      },
      "execution_count": null,
      "outputs": [
        {
          "output_type": "stream",
          "name": "stdout",
          "text": [
            " * sqlite:////content/drive/MyDrive/TMDB.db\n",
            "Done.\n"
          ]
        },
        {
          "output_type": "execute_result",
          "data": {
            "text/plain": [
              "[(0, 'movie_id', 'INTEGER', 1, None, 1),\n",
              " (1, 'title', 'varchar(500)', 0, 'NULL', 0),\n",
              " (2, 'release_date', 'datetime(6)', 0, 'NULL', 0),\n",
              " (3, 'budget', 'INTEGER', 0, 'NULL', 0),\n",
              " (4, 'homepage', 'varchar(500)', 0, 'NULL', 0),\n",
              " (5, 'original_language', 'varchar(50)', 0, 'NULL', 0),\n",
              " (6, 'original_title', 'varchar(500)', 0, 'NULL', 0),\n",
              " (7, 'overview', 'varchar(5000)', 0, 'NULL', 0),\n",
              " (8, 'popularity', 'double', 0, 'NULL', 0),\n",
              " (9, 'revenue', 'double', 0, 'NULL', 0),\n",
              " (10, 'runtime', 'double', 0, 'NULL', 0),\n",
              " (11, 'release_status', 'varchar(50)', 0, 'NULL', 0),\n",
              " (12, 'tagline', 'varchar(500)', 0, 'NULL', 0),\n",
              " (13, 'vote_average', 'double', 0, 'NULL', 0),\n",
              " (14, 'vote_count', 'INTEGER', 0, 'NULL', 0)]"
            ],
            "text/html": [
              "<table>\n",
              "    <thead>\n",
              "        <tr>\n",
              "            <th>cid</th>\n",
              "            <th>name</th>\n",
              "            <th>type</th>\n",
              "            <th>notnull</th>\n",
              "            <th>dflt_value</th>\n",
              "            <th>pk</th>\n",
              "        </tr>\n",
              "    </thead>\n",
              "    <tbody>\n",
              "        <tr>\n",
              "            <td>0</td>\n",
              "            <td>movie_id</td>\n",
              "            <td>INTEGER</td>\n",
              "            <td>1</td>\n",
              "            <td>None</td>\n",
              "            <td>1</td>\n",
              "        </tr>\n",
              "        <tr>\n",
              "            <td>1</td>\n",
              "            <td>title</td>\n",
              "            <td>varchar(500)</td>\n",
              "            <td>0</td>\n",
              "            <td>NULL</td>\n",
              "            <td>0</td>\n",
              "        </tr>\n",
              "        <tr>\n",
              "            <td>2</td>\n",
              "            <td>release_date</td>\n",
              "            <td>datetime(6)</td>\n",
              "            <td>0</td>\n",
              "            <td>NULL</td>\n",
              "            <td>0</td>\n",
              "        </tr>\n",
              "        <tr>\n",
              "            <td>3</td>\n",
              "            <td>budget</td>\n",
              "            <td>INTEGER</td>\n",
              "            <td>0</td>\n",
              "            <td>NULL</td>\n",
              "            <td>0</td>\n",
              "        </tr>\n",
              "        <tr>\n",
              "            <td>4</td>\n",
              "            <td>homepage</td>\n",
              "            <td>varchar(500)</td>\n",
              "            <td>0</td>\n",
              "            <td>NULL</td>\n",
              "            <td>0</td>\n",
              "        </tr>\n",
              "        <tr>\n",
              "            <td>5</td>\n",
              "            <td>original_language</td>\n",
              "            <td>varchar(50)</td>\n",
              "            <td>0</td>\n",
              "            <td>NULL</td>\n",
              "            <td>0</td>\n",
              "        </tr>\n",
              "        <tr>\n",
              "            <td>6</td>\n",
              "            <td>original_title</td>\n",
              "            <td>varchar(500)</td>\n",
              "            <td>0</td>\n",
              "            <td>NULL</td>\n",
              "            <td>0</td>\n",
              "        </tr>\n",
              "        <tr>\n",
              "            <td>7</td>\n",
              "            <td>overview</td>\n",
              "            <td>varchar(5000)</td>\n",
              "            <td>0</td>\n",
              "            <td>NULL</td>\n",
              "            <td>0</td>\n",
              "        </tr>\n",
              "        <tr>\n",
              "            <td>8</td>\n",
              "            <td>popularity</td>\n",
              "            <td>double</td>\n",
              "            <td>0</td>\n",
              "            <td>NULL</td>\n",
              "            <td>0</td>\n",
              "        </tr>\n",
              "        <tr>\n",
              "            <td>9</td>\n",
              "            <td>revenue</td>\n",
              "            <td>double</td>\n",
              "            <td>0</td>\n",
              "            <td>NULL</td>\n",
              "            <td>0</td>\n",
              "        </tr>\n",
              "        <tr>\n",
              "            <td>10</td>\n",
              "            <td>runtime</td>\n",
              "            <td>double</td>\n",
              "            <td>0</td>\n",
              "            <td>NULL</td>\n",
              "            <td>0</td>\n",
              "        </tr>\n",
              "        <tr>\n",
              "            <td>11</td>\n",
              "            <td>release_status</td>\n",
              "            <td>varchar(50)</td>\n",
              "            <td>0</td>\n",
              "            <td>NULL</td>\n",
              "            <td>0</td>\n",
              "        </tr>\n",
              "        <tr>\n",
              "            <td>12</td>\n",
              "            <td>tagline</td>\n",
              "            <td>varchar(500)</td>\n",
              "            <td>0</td>\n",
              "            <td>NULL</td>\n",
              "            <td>0</td>\n",
              "        </tr>\n",
              "        <tr>\n",
              "            <td>13</td>\n",
              "            <td>vote_average</td>\n",
              "            <td>double</td>\n",
              "            <td>0</td>\n",
              "            <td>NULL</td>\n",
              "            <td>0</td>\n",
              "        </tr>\n",
              "        <tr>\n",
              "            <td>14</td>\n",
              "            <td>vote_count</td>\n",
              "            <td>INTEGER</td>\n",
              "            <td>0</td>\n",
              "            <td>NULL</td>\n",
              "            <td>0</td>\n",
              "        </tr>\n",
              "    </tbody>\n",
              "</table>"
            ]
          },
          "metadata": {},
          "execution_count": 9
        }
      ]
    },
    {
      "cell_type": "markdown",
      "source": [
        "####movie_id is pk"
      ],
      "metadata": {
        "id": "SV67G6HZScvL"
      }
    },
    {
      "cell_type": "markdown",
      "metadata": {
        "id": "KSkdaG_iJqnx"
      },
      "source": [
        "### Question 3\n",
        "How many foreign keys does the “languagemap” table have?\n",
        "\n"
      ]
    },
    {
      "cell_type": "code",
      "source": [
        "%%sql\n",
        "PRAGMA foreign_key_list(languagemap);"
      ],
      "metadata": {
        "colab": {
          "base_uri": "https://localhost:8080/",
          "height": 118
        },
        "id": "crPeG8cPSwUL",
        "outputId": "08f28c99-321e-4168-983f-36e019cee1be"
      },
      "execution_count": null,
      "outputs": [
        {
          "output_type": "stream",
          "name": "stdout",
          "text": [
            " * sqlite:////content/drive/MyDrive/TMDB.db\n",
            "Done.\n"
          ]
        },
        {
          "output_type": "execute_result",
          "data": {
            "text/plain": [
              "[(0, 0, 'movies', 'movie_id', 'movie_id', 'NO ACTION', 'NO ACTION', 'NONE'),\n",
              " (1, 0, 'languages', 'iso_639_1', 'iso_639_1', 'NO ACTION', 'NO ACTION', 'NONE')]"
            ],
            "text/html": [
              "<table>\n",
              "    <thead>\n",
              "        <tr>\n",
              "            <th>id</th>\n",
              "            <th>seq</th>\n",
              "            <th>table</th>\n",
              "            <th>from</th>\n",
              "            <th>to</th>\n",
              "            <th>on_update</th>\n",
              "            <th>on_delete</th>\n",
              "            <th>match</th>\n",
              "        </tr>\n",
              "    </thead>\n",
              "    <tbody>\n",
              "        <tr>\n",
              "            <td>0</td>\n",
              "            <td>0</td>\n",
              "            <td>movies</td>\n",
              "            <td>movie_id</td>\n",
              "            <td>movie_id</td>\n",
              "            <td>NO ACTION</td>\n",
              "            <td>NO ACTION</td>\n",
              "            <td>NONE</td>\n",
              "        </tr>\n",
              "        <tr>\n",
              "            <td>1</td>\n",
              "            <td>0</td>\n",
              "            <td>languages</td>\n",
              "            <td>iso_639_1</td>\n",
              "            <td>iso_639_1</td>\n",
              "            <td>NO ACTION</td>\n",
              "            <td>NO ACTION</td>\n",
              "            <td>NONE</td>\n",
              "        </tr>\n",
              "    </tbody>\n",
              "</table>"
            ]
          },
          "metadata": {},
          "execution_count": 10
        }
      ]
    },
    {
      "cell_type": "markdown",
      "source": [
        "###2 foreign key"
      ],
      "metadata": {
        "id": "opJRJ4CWTtie"
      }
    },
    {
      "cell_type": "markdown",
      "metadata": {
        "id": "eO7T-b9AJqnx"
      },
      "source": [
        "### Question 4\n",
        "What code would you use to set up a view of all movies that did not get released?\n"
      ]
    },
    {
      "cell_type": "code",
      "execution_count": null,
      "metadata": {
        "id": "8FTBNKnlJqny",
        "colab": {
          "base_uri": "https://localhost:8080/",
          "height": 880
        },
        "outputId": "f2200013-3a12-4e3d-8508-77949e0326ac"
      },
      "outputs": [
        {
          "output_type": "stream",
          "name": "stdout",
          "text": [
            " * sqlite:////content/drive/MyDrive/TMDB.db\n",
            "Done.\n"
          ]
        },
        {
          "output_type": "execute_result",
          "data": {
            "text/plain": [
              "[(380097, 'America Is Still the Place', None, 0, None, 'en', 'America Is Still the Place', '\"1971 post civil rights San Francisco seemed like the perfect place for a black Korean War veteran and his family to realize their dream of economic  ... (222 characters truncated) ... pened a door that had never been open to a black man before. This is a story about what happened when he stepped through that door, with both feet!.\"', 0.0, 0.0, 0.0, 'Released', None, 0.0, 0)]"
            ],
            "text/html": [
              "<table>\n",
              "    <thead>\n",
              "        <tr>\n",
              "            <th>movie_id</th>\n",
              "            <th>title</th>\n",
              "            <th>release_date</th>\n",
              "            <th>budget</th>\n",
              "            <th>homepage</th>\n",
              "            <th>original_language</th>\n",
              "            <th>original_title</th>\n",
              "            <th>overview</th>\n",
              "            <th>popularity</th>\n",
              "            <th>revenue</th>\n",
              "            <th>runtime</th>\n",
              "            <th>release_status</th>\n",
              "            <th>tagline</th>\n",
              "            <th>vote_average</th>\n",
              "            <th>vote_count</th>\n",
              "        </tr>\n",
              "    </thead>\n",
              "    <tbody>\n",
              "        <tr>\n",
              "            <td>380097</td>\n",
              "            <td>America Is Still the Place</td>\n",
              "            <td>None</td>\n",
              "            <td>0</td>\n",
              "            <td>None</td>\n",
              "            <td>en</td>\n",
              "            <td>America Is Still the Place</td>\n",
              "            <td>&quot;1971 post civil rights San Francisco seemed like the perfect place for a black Korean War veteran and his family to realize their dream of economic independence and his own chance to be his a &quot;&quot;boss&quot;&quot;. Charlie Walker would soon find out how naive he was. In a city full of impostors and naysayers, he refused to take &quot;&quot;No&quot;&quot; for an answer. Until a catastrophic disaster opened a door that had never been open to a black man before. This is a story about what happened when he stepped through that door, with both feet!.&quot;</td>\n",
              "            <td>0.0</td>\n",
              "            <td>0.0</td>\n",
              "            <td>0.0</td>\n",
              "            <td>Released</td>\n",
              "            <td>None</td>\n",
              "            <td>0.0</td>\n",
              "            <td>0</td>\n",
              "        </tr>\n",
              "    </tbody>\n",
              "</table>"
            ]
          },
          "metadata": {},
          "execution_count": 11
        }
      ],
      "source": [
        "%%sql\n",
        "select * from Movies\n",
        "where release_date is null ;"
      ]
    },
    {
      "cell_type": "code",
      "source": [
        "%%sql\n",
        "create view non_released as\n",
        "select *\n",
        "from movies\n",
        "where release_date is null ;"
      ],
      "metadata": {
        "colab": {
          "base_uri": "https://localhost:8080/"
        },
        "id": "IDE2D28-a9-U",
        "outputId": "5e430960-0754-450d-d6b3-8b10596f6b04"
      },
      "execution_count": null,
      "outputs": [
        {
          "output_type": "stream",
          "name": "stdout",
          "text": [
            " * sqlite:////content/drive/MyDrive/TMDB.db\n",
            "Done.\n"
          ]
        },
        {
          "output_type": "execute_result",
          "data": {
            "text/plain": [
              "[]"
            ]
          },
          "metadata": {},
          "execution_count": 12
        }
      ]
    },
    {
      "cell_type": "code",
      "source": [],
      "metadata": {
        "id": "VZ_Ts3fUWyUk"
      },
      "execution_count": null,
      "outputs": []
    },
    {
      "cell_type": "code",
      "source": [
        "%%sql\n",
        "select distinct release_status from movies;"
      ],
      "metadata": {
        "colab": {
          "base_uri": "https://localhost:8080/",
          "height": 139
        },
        "id": "MtICopcUVgKG",
        "outputId": "cd9b8e26-8e6e-4470-91dd-ee3dfb6eb7ae"
      },
      "execution_count": null,
      "outputs": [
        {
          "output_type": "stream",
          "name": "stdout",
          "text": [
            " * sqlite:///TMDB.db\n",
            "Done.\n"
          ]
        },
        {
          "output_type": "execute_result",
          "data": {
            "text/plain": [
              "[('Released',), ('Rumored',), ('Post Production',)]"
            ],
            "text/html": [
              "<table>\n",
              "    <thead>\n",
              "        <tr>\n",
              "            <th>release_status</th>\n",
              "        </tr>\n",
              "    </thead>\n",
              "    <tbody>\n",
              "        <tr>\n",
              "            <td>Released</td>\n",
              "        </tr>\n",
              "        <tr>\n",
              "            <td>Rumored</td>\n",
              "        </tr>\n",
              "        <tr>\n",
              "            <td>Post Production</td>\n",
              "        </tr>\n",
              "    </tbody>\n",
              "</table>"
            ]
          },
          "metadata": {},
          "execution_count": 7
        }
      ]
    },
    {
      "cell_type": "markdown",
      "metadata": {
        "id": "GxuX_z8iJqny"
      },
      "source": [
        "### Question 5\n",
        "How would you select only the title, release date, and release status columns from the view you created in the previous question?\n"
      ]
    },
    {
      "cell_type": "code",
      "execution_count": null,
      "metadata": {
        "id": "7E0ZI_d9Jqnz",
        "colab": {
          "base_uri": "https://localhost:8080/",
          "height": 96
        },
        "outputId": "e5600209-28e4-49c0-98dd-d459fd90370c"
      },
      "outputs": [
        {
          "output_type": "stream",
          "name": "stdout",
          "text": [
            " * sqlite:///TMDB.db\n",
            "Done.\n"
          ]
        },
        {
          "output_type": "execute_result",
          "data": {
            "text/plain": [
              "[('America Is Still the Place', 'Released')]"
            ],
            "text/html": [
              "<table>\n",
              "    <thead>\n",
              "        <tr>\n",
              "            <th>title</th>\n",
              "            <th>release_status</th>\n",
              "        </tr>\n",
              "    </thead>\n",
              "    <tbody>\n",
              "        <tr>\n",
              "            <td>America Is Still the Place</td>\n",
              "            <td>Released</td>\n",
              "        </tr>\n",
              "    </tbody>\n",
              "</table>"
            ]
          },
          "metadata": {},
          "execution_count": 18
        }
      ],
      "source": [
        "%%sql\n",
        "select title, release_status\n",
        "from movies\n",
        "where release_date is null ;\n"
      ]
    },
    {
      "cell_type": "code",
      "source": [
        "%%sql\n",
        "select title, release_status\n",
        "from non_released;"
      ],
      "metadata": {
        "colab": {
          "base_uri": "https://localhost:8080/",
          "height": 96
        },
        "id": "fOT8i-hHbLnr",
        "outputId": "a848a4b7-4161-418a-c500-32e8f3eebd83"
      },
      "execution_count": null,
      "outputs": [
        {
          "output_type": "stream",
          "name": "stdout",
          "text": [
            " * sqlite:///TMDB.db\n",
            "Done.\n"
          ]
        },
        {
          "output_type": "execute_result",
          "data": {
            "text/plain": [
              "[('America Is Still the Place', 'Released')]"
            ],
            "text/html": [
              "<table>\n",
              "    <thead>\n",
              "        <tr>\n",
              "            <th>title</th>\n",
              "            <th>release_status</th>\n",
              "        </tr>\n",
              "    </thead>\n",
              "    <tbody>\n",
              "        <tr>\n",
              "            <td>America Is Still the Place</td>\n",
              "            <td>Released</td>\n",
              "        </tr>\n",
              "    </tbody>\n",
              "</table>"
            ]
          },
          "metadata": {},
          "execution_count": 20
        }
      ]
    },
    {
      "cell_type": "markdown",
      "metadata": {
        "id": "WYqGtSSkJqnz"
      },
      "source": [
        "### Question 6\n",
        "How many movies are no longer using their original titles?\n",
        "\n"
      ]
    },
    {
      "cell_type": "code",
      "execution_count": null,
      "metadata": {
        "id": "4l4MbDo2Jqn0",
        "colab": {
          "base_uri": "https://localhost:8080/",
          "height": 96
        },
        "outputId": "e3671d47-a3e0-4935-f420-1dc5db9ced8d"
      },
      "outputs": [
        {
          "output_type": "stream",
          "name": "stdout",
          "text": [
            " * sqlite:///TMDB.db\n",
            "Done.\n"
          ]
        },
        {
          "output_type": "execute_result",
          "data": {
            "text/plain": [
              "[(261,)]"
            ],
            "text/html": [
              "<table>\n",
              "    <thead>\n",
              "        <tr>\n",
              "            <th>count(title)</th>\n",
              "        </tr>\n",
              "    </thead>\n",
              "    <tbody>\n",
              "        <tr>\n",
              "            <td>261</td>\n",
              "        </tr>\n",
              "    </tbody>\n",
              "</table>"
            ]
          },
          "metadata": {},
          "execution_count": 21
        }
      ],
      "source": [
        "%%sql\n",
        "select count(title)\n",
        "from movies\n",
        "where original_title != title;\n"
      ]
    },
    {
      "cell_type": "markdown",
      "source": [
        "###261"
      ],
      "metadata": {
        "id": "_TVwkRLgb9eo"
      }
    },
    {
      "cell_type": "markdown",
      "metadata": {
        "id": "_ZJuNLfPJqn0"
      },
      "source": [
        "### Question 7\n",
        "What is the most popular movie that was made after 01/01/2000 with a budget of more than $100 000 000? (Hint: Use the popularity field in the Movies table. Larger numbers are more popular.)\n"
      ]
    },
    {
      "cell_type": "code",
      "execution_count": null,
      "metadata": {
        "id": "AY2PN5HzJqn0",
        "colab": {
          "base_uri": "https://localhost:8080/",
          "height": 96
        },
        "outputId": "e7b292ba-7716-4176-8750-909a980f9cf0"
      },
      "outputs": [
        {
          "output_type": "stream",
          "name": "stdout",
          "text": [
            " * sqlite:///TMDB.db\n",
            "Done.\n"
          ]
        },
        {
          "output_type": "execute_result",
          "data": {
            "text/plain": [
              "[(724.247784, 'Interstellar')]"
            ],
            "text/html": [
              "<table>\n",
              "    <thead>\n",
              "        <tr>\n",
              "            <th>max(popularity)</th>\n",
              "            <th>title</th>\n",
              "        </tr>\n",
              "    </thead>\n",
              "    <tbody>\n",
              "        <tr>\n",
              "            <td>724.247784</td>\n",
              "            <td>Interstellar</td>\n",
              "        </tr>\n",
              "    </tbody>\n",
              "</table>"
            ]
          },
          "metadata": {},
          "execution_count": 23
        }
      ],
      "source": [
        "%%sql\n",
        "select max(popularity), title\n",
        "from movies\n",
        "where release_date >\"01/01/2000\" and budget > 100000000;"
      ]
    },
    {
      "cell_type": "markdown",
      "source": [
        "### interstellar is popular movie since 2000 (it is logic)"
      ],
      "metadata": {
        "id": "15STAR-HdIzN"
      }
    },
    {
      "cell_type": "markdown",
      "metadata": {
        "id": "CfRuCZ68Jqn0"
      },
      "source": [
        "### Question 8\n",
        "How many movies are there that do not have English as their original language?\n",
        "\n"
      ]
    },
    {
      "cell_type": "code",
      "source": [
        "%%sql\n",
        "select distinct original_language\n",
        "from movies"
      ],
      "metadata": {
        "colab": {
          "base_uri": "https://localhost:8080/",
          "height": 865
        },
        "id": "vw5FChHkd9lb",
        "outputId": "34089516-d660-4d6a-ef32-9dbccf39efe7"
      },
      "execution_count": null,
      "outputs": [
        {
          "output_type": "stream",
          "name": "stdout",
          "text": [
            " * sqlite:///TMDB.db\n",
            "Done.\n"
          ]
        },
        {
          "output_type": "execute_result",
          "data": {
            "text/plain": [
              "[('en',),\n",
              " ('de',),\n",
              " ('es',),\n",
              " ('zh',),\n",
              " ('ja',),\n",
              " ('fr',),\n",
              " ('da',),\n",
              " ('it',),\n",
              " ('sv',),\n",
              " ('hi',),\n",
              " ('ru',),\n",
              " ('pt',),\n",
              " ('ko',),\n",
              " ('af',),\n",
              " ('ro',),\n",
              " ('nl',),\n",
              " ('ar',),\n",
              " ('he',),\n",
              " ('th',),\n",
              " ('cn',),\n",
              " ('tr',),\n",
              " ('cs',),\n",
              " ('fa',),\n",
              " ('no',),\n",
              " ('ps',),\n",
              " ('vi',),\n",
              " ('el',),\n",
              " ('hu',),\n",
              " ('nb',),\n",
              " ('xx',),\n",
              " ('id',),\n",
              " ('pl',),\n",
              " ('is',),\n",
              " ('te',),\n",
              " ('ta',),\n",
              " ('ky',),\n",
              " ('sl',)]"
            ],
            "text/html": [
              "<table>\n",
              "    <thead>\n",
              "        <tr>\n",
              "            <th>original_language</th>\n",
              "        </tr>\n",
              "    </thead>\n",
              "    <tbody>\n",
              "        <tr>\n",
              "            <td>en</td>\n",
              "        </tr>\n",
              "        <tr>\n",
              "            <td>de</td>\n",
              "        </tr>\n",
              "        <tr>\n",
              "            <td>es</td>\n",
              "        </tr>\n",
              "        <tr>\n",
              "            <td>zh</td>\n",
              "        </tr>\n",
              "        <tr>\n",
              "            <td>ja</td>\n",
              "        </tr>\n",
              "        <tr>\n",
              "            <td>fr</td>\n",
              "        </tr>\n",
              "        <tr>\n",
              "            <td>da</td>\n",
              "        </tr>\n",
              "        <tr>\n",
              "            <td>it</td>\n",
              "        </tr>\n",
              "        <tr>\n",
              "            <td>sv</td>\n",
              "        </tr>\n",
              "        <tr>\n",
              "            <td>hi</td>\n",
              "        </tr>\n",
              "        <tr>\n",
              "            <td>ru</td>\n",
              "        </tr>\n",
              "        <tr>\n",
              "            <td>pt</td>\n",
              "        </tr>\n",
              "        <tr>\n",
              "            <td>ko</td>\n",
              "        </tr>\n",
              "        <tr>\n",
              "            <td>af</td>\n",
              "        </tr>\n",
              "        <tr>\n",
              "            <td>ro</td>\n",
              "        </tr>\n",
              "        <tr>\n",
              "            <td>nl</td>\n",
              "        </tr>\n",
              "        <tr>\n",
              "            <td>ar</td>\n",
              "        </tr>\n",
              "        <tr>\n",
              "            <td>he</td>\n",
              "        </tr>\n",
              "        <tr>\n",
              "            <td>th</td>\n",
              "        </tr>\n",
              "        <tr>\n",
              "            <td>cn</td>\n",
              "        </tr>\n",
              "        <tr>\n",
              "            <td>tr</td>\n",
              "        </tr>\n",
              "        <tr>\n",
              "            <td>cs</td>\n",
              "        </tr>\n",
              "        <tr>\n",
              "            <td>fa</td>\n",
              "        </tr>\n",
              "        <tr>\n",
              "            <td>no</td>\n",
              "        </tr>\n",
              "        <tr>\n",
              "            <td>ps</td>\n",
              "        </tr>\n",
              "        <tr>\n",
              "            <td>vi</td>\n",
              "        </tr>\n",
              "        <tr>\n",
              "            <td>el</td>\n",
              "        </tr>\n",
              "        <tr>\n",
              "            <td>hu</td>\n",
              "        </tr>\n",
              "        <tr>\n",
              "            <td>nb</td>\n",
              "        </tr>\n",
              "        <tr>\n",
              "            <td>xx</td>\n",
              "        </tr>\n",
              "        <tr>\n",
              "            <td>id</td>\n",
              "        </tr>\n",
              "        <tr>\n",
              "            <td>pl</td>\n",
              "        </tr>\n",
              "        <tr>\n",
              "            <td>is</td>\n",
              "        </tr>\n",
              "        <tr>\n",
              "            <td>te</td>\n",
              "        </tr>\n",
              "        <tr>\n",
              "            <td>ta</td>\n",
              "        </tr>\n",
              "        <tr>\n",
              "            <td>ky</td>\n",
              "        </tr>\n",
              "        <tr>\n",
              "            <td>sl</td>\n",
              "        </tr>\n",
              "    </tbody>\n",
              "</table>"
            ]
          },
          "metadata": {},
          "execution_count": 24
        }
      ]
    },
    {
      "cell_type": "code",
      "execution_count": null,
      "metadata": {
        "id": "xptzYlgmJqn1",
        "colab": {
          "base_uri": "https://localhost:8080/",
          "height": 96
        },
        "outputId": "4fa79692-b68d-443f-a5c9-de1b57616957"
      },
      "outputs": [
        {
          "output_type": "stream",
          "name": "stdout",
          "text": [
            " * sqlite:///TMDB.db\n",
            "Done.\n"
          ]
        },
        {
          "output_type": "execute_result",
          "data": {
            "text/plain": [
              "[(298,)]"
            ],
            "text/html": [
              "<table>\n",
              "    <thead>\n",
              "        <tr>\n",
              "            <th>count(title)</th>\n",
              "        </tr>\n",
              "    </thead>\n",
              "    <tbody>\n",
              "        <tr>\n",
              "            <td>298</td>\n",
              "        </tr>\n",
              "    </tbody>\n",
              "</table>"
            ]
          },
          "metadata": {},
          "execution_count": 25
        }
      ],
      "source": [
        "%%sql\n",
        "select count(title)\n",
        "from movies\n",
        "where original_language != \"en\";"
      ]
    },
    {
      "cell_type": "markdown",
      "source": [
        "###298"
      ],
      "metadata": {
        "id": "FlVGNi3WeVkg"
      }
    },
    {
      "cell_type": "markdown",
      "metadata": {
        "id": "1z4656wQJqn3"
      },
      "source": [
        "### Question 9\n",
        "In how many movies did Tom Cruise portray the character Ethan Hunt?\n",
        "\n"
      ]
    },
    {
      "cell_type": "code",
      "execution_count": null,
      "metadata": {
        "id": "CiuwUD-NJqn3",
        "colab": {
          "base_uri": "https://localhost:8080/",
          "height": 96
        },
        "outputId": "95bd952b-2ac4-4800-a4c9-ac6466104a41"
      },
      "outputs": [
        {
          "output_type": "stream",
          "name": "stdout",
          "text": [
            " * sqlite:///TMDB.db\n",
            "Done.\n"
          ]
        },
        {
          "output_type": "execute_result",
          "data": {
            "text/plain": [
              "[(5,)]"
            ],
            "text/html": [
              "<table>\n",
              "    <thead>\n",
              "        <tr>\n",
              "            <th>count(title)</th>\n",
              "        </tr>\n",
              "    </thead>\n",
              "    <tbody>\n",
              "        <tr>\n",
              "            <td>5</td>\n",
              "        </tr>\n",
              "    </tbody>\n",
              "</table>"
            ]
          },
          "metadata": {},
          "execution_count": 40
        }
      ],
      "source": [
        "%%sql\n",
        "select count(title)\n",
        "from movies\n",
        "join casts on   movies.movie_id = casts.movie_id\n",
        "join actors on casts.actor_id = actors.actor_id\n",
        "where actors.actor_name = 'Tom Cruise'\n",
        "and casts.characters  like '%Ethan Hunt%';\n"
      ]
    },
    {
      "cell_type": "markdown",
      "metadata": {
        "id": "cUsRwRKJJqn3"
      },
      "source": [
        "### Question 10\n",
        "How many times was the actress Cate Blanchett nominated for an Oscar?"
      ]
    },
    {
      "cell_type": "code",
      "execution_count": null,
      "metadata": {
        "id": "JV_kvB2nJqn3",
        "colab": {
          "base_uri": "https://localhost:8080/",
          "height": 225
        },
        "outputId": "c9165164-2ff5-4b18-a8f5-3e09f4c2faf7"
      },
      "outputs": [
        {
          "output_type": "stream",
          "name": "stdout",
          "text": [
            " * sqlite:///TMDB.db\n",
            "Done.\n"
          ]
        },
        {
          "output_type": "execute_result",
          "data": {
            "text/plain": [
              "[('1927/1928', 'Actor', None, 'Richard Barthelmess', 'The Noose'),\n",
              " ('1927/1928', 'Actor', '1.0', 'Emil Jannings', 'The Last Command'),\n",
              " ('1927/1928', 'Actress', None, 'Louise Dresser', 'A Ship Comes In'),\n",
              " ('1927/1928', 'Actress', '1.0', 'Janet Gaynor', '7th Heaven'),\n",
              " ('1927/1928', 'Actress', None, 'Gloria Swanson', 'Sadie Thompson'),\n",
              " ('1927/1928', 'Art Direction', None, 'Rochus Gliese', 'Sunrise'),\n",
              " ('1927/1928', 'Art Direction', '1.0', 'William Cameron Menzies', 'The Dove; Tempest')]"
            ],
            "text/html": [
              "<table>\n",
              "    <thead>\n",
              "        <tr>\n",
              "            <th>year</th>\n",
              "            <th>award</th>\n",
              "            <th>winner</th>\n",
              "            <th>name</th>\n",
              "            <th>film</th>\n",
              "        </tr>\n",
              "    </thead>\n",
              "    <tbody>\n",
              "        <tr>\n",
              "            <td>1927/1928</td>\n",
              "            <td>Actor</td>\n",
              "            <td>None</td>\n",
              "            <td>Richard Barthelmess</td>\n",
              "            <td>The Noose</td>\n",
              "        </tr>\n",
              "        <tr>\n",
              "            <td>1927/1928</td>\n",
              "            <td>Actor</td>\n",
              "            <td>1.0</td>\n",
              "            <td>Emil Jannings</td>\n",
              "            <td>The Last Command</td>\n",
              "        </tr>\n",
              "        <tr>\n",
              "            <td>1927/1928</td>\n",
              "            <td>Actress</td>\n",
              "            <td>None</td>\n",
              "            <td>Louise Dresser</td>\n",
              "            <td>A Ship Comes In</td>\n",
              "        </tr>\n",
              "        <tr>\n",
              "            <td>1927/1928</td>\n",
              "            <td>Actress</td>\n",
              "            <td>1.0</td>\n",
              "            <td>Janet Gaynor</td>\n",
              "            <td>7th Heaven</td>\n",
              "        </tr>\n",
              "        <tr>\n",
              "            <td>1927/1928</td>\n",
              "            <td>Actress</td>\n",
              "            <td>None</td>\n",
              "            <td>Gloria Swanson</td>\n",
              "            <td>Sadie Thompson</td>\n",
              "        </tr>\n",
              "        <tr>\n",
              "            <td>1927/1928</td>\n",
              "            <td>Art Direction</td>\n",
              "            <td>None</td>\n",
              "            <td>Rochus Gliese</td>\n",
              "            <td>Sunrise</td>\n",
              "        </tr>\n",
              "        <tr>\n",
              "            <td>1927/1928</td>\n",
              "            <td>Art Direction</td>\n",
              "            <td>1.0</td>\n",
              "            <td>William Cameron Menzies</td>\n",
              "            <td>The Dove; Tempest</td>\n",
              "        </tr>\n",
              "    </tbody>\n",
              "</table>"
            ]
          },
          "metadata": {},
          "execution_count": 36
        }
      ],
      "source": [
        "%%sql\n",
        "select *\n",
        "from  oscars\n",
        "limit 7;"
      ]
    },
    {
      "cell_type": "code",
      "source": [
        "%%sql\n",
        "select count(name)\n",
        "from  oscars\n",
        "where name = 'Cate Blanchett';"
      ],
      "metadata": {
        "colab": {
          "base_uri": "https://localhost:8080/",
          "height": 96
        },
        "id": "fvfUyyBLsCXD",
        "outputId": "e14d9131-726f-42f9-82c2-f243d4e931ac"
      },
      "execution_count": null,
      "outputs": [
        {
          "output_type": "stream",
          "name": "stdout",
          "text": [
            " * sqlite:///TMDB.db\n",
            "Done.\n"
          ]
        },
        {
          "output_type": "execute_result",
          "data": {
            "text/plain": [
              "[(7,)]"
            ],
            "text/html": [
              "<table>\n",
              "    <thead>\n",
              "        <tr>\n",
              "            <th>count(name)</th>\n",
              "        </tr>\n",
              "    </thead>\n",
              "    <tbody>\n",
              "        <tr>\n",
              "            <td>7</td>\n",
              "        </tr>\n",
              "    </tbody>\n",
              "</table>"
            ]
          },
          "metadata": {},
          "execution_count": 37
        }
      ]
    },
    {
      "cell_type": "markdown",
      "source": [
        "###7"
      ],
      "metadata": {
        "id": "Krc8iAtys7Wt"
      }
    },
    {
      "cell_type": "markdown",
      "metadata": {
        "id": "B2vmIMtTJqn5"
      },
      "source": [
        "### Question 11\n",
        "What would be the code to insert a new genre called ‘Sport’ with an id of 10?\n"
      ]
    },
    {
      "cell_type": "code",
      "execution_count": null,
      "metadata": {
        "id": "KxHhto3QJqn5",
        "colab": {
          "base_uri": "https://localhost:8080/"
        },
        "outputId": "bbe74616-7363-4cd1-d945-2773ac6a614f"
      },
      "outputs": [
        {
          "output_type": "stream",
          "name": "stdout",
          "text": [
            " * sqlite:///TMDB.db\n",
            "(sqlite3.OperationalError) no such table: gener\n",
            "[SQL: insert into gener (id, name)\n",
            "values (10, 'Sport');]\n",
            "(Background on this error at: https://sqlalche.me/e/20/e3q8)\n"
          ]
        }
      ],
      "source": [
        "%%sql\n",
        "insert into gener (id, name)\n",
        "values (10, 'Sport');"
      ]
    },
    {
      "cell_type": "markdown",
      "metadata": {
        "id": "wJLGKPNqJqn5"
      },
      "source": [
        "### Question 12\n",
        "You have just watched The Flintstones movie and did not find it very funny. What code would delete the entry that links The Flintstones to the Comedy genre?\n"
      ]
    },
    {
      "cell_type": "code",
      "execution_count": null,
      "metadata": {
        "id": "ClMS3iSiJqn5"
      },
      "outputs": [],
      "source": [
        "%%sql\n",
        "DELETE FROM genremap WHERE genre_id = 35 AND movie_id = 888;\n",
        "\n"
      ]
    },
    {
      "cell_type": "markdown",
      "metadata": {
        "id": "ZHMUw-F3Jqn5"
      },
      "source": [
        "### Question 13\n",
        "What code will give me the 10 most recently released movies in the database? and put it in a list\n"
      ]
    },
    {
      "cell_type": "code",
      "execution_count": null,
      "metadata": {
        "id": "T7ZoP3zHJqn6"
      },
      "outputs": [],
      "source": [
        "%%sql\n",
        "select title, release_date\n",
        "from movies\n",
        "order by release_date desc\n",
        "limit 10;\n"
      ]
    },
    {
      "cell_type": "code",
      "source": [],
      "metadata": {
        "id": "qc2DvvTmLtQQ"
      },
      "execution_count": null,
      "outputs": []
    },
    {
      "cell_type": "markdown",
      "source": [
        "#sql analysis"
      ],
      "metadata": {
        "id": "3rcTchnaLxgl"
      }
    },
    {
      "cell_type": "markdown",
      "source": [
        "### top 5 gennery by popularity"
      ],
      "metadata": {
        "id": "JP79KxV3NukY"
      }
    },
    {
      "cell_type": "code",
      "source": [
        "%%sql\n",
        "create view  top_genre as\n",
        "select genre_name, sum(popularity)\n",
        "from movies\n",
        "join genremap on movies.movie_id = genremap.movie_id\n",
        "join genres on genremap.genre_id = genres.genre_id\n",
        "group by genre_name\n",
        "order by sum(popularity) desc\n",
        "\n",
        "limit 5 ;"
      ],
      "metadata": {
        "colab": {
          "base_uri": "https://localhost:8080/"
        },
        "id": "BstQApKzNELn",
        "outputId": "faba80bf-d50b-4376-a251-54287f77cbd2"
      },
      "execution_count": null,
      "outputs": [
        {
          "output_type": "stream",
          "name": "stdout",
          "text": [
            " * sqlite:////content/drive/MyDrive/TMDB.db\n",
            "Done.\n"
          ]
        },
        {
          "output_type": "execute_result",
          "data": {
            "text/plain": [
              "[]"
            ]
          },
          "metadata": {},
          "execution_count": 13
        }
      ]
    },
    {
      "cell_type": "code",
      "source": [
        "%%sql\n",
        "select *\n",
        "from top_genre"
      ],
      "metadata": {
        "colab": {
          "base_uri": "https://localhost:8080/",
          "height": 182
        },
        "id": "aKB4ZjHwTvnS",
        "outputId": "3775210d-8b7f-4f2b-9b53-d1de26a97073"
      },
      "execution_count": null,
      "outputs": [
        {
          "output_type": "stream",
          "name": "stdout",
          "text": [
            " * sqlite:////content/drive/MyDrive/TMDB.db\n",
            "Done.\n"
          ]
        },
        {
          "output_type": "execute_result",
          "data": {
            "text/plain": [
              "[('Drama', 40805.86819500003),\n",
              " ('Action', 35705.201004999966),\n",
              " ('Comedy', 31376.56370299994),\n",
              " ('Thriller', 31162.137492999955),\n",
              " ('Adventure', 31021.75317299999)]"
            ],
            "text/html": [
              "<table>\n",
              "    <thead>\n",
              "        <tr>\n",
              "            <th>genre_name</th>\n",
              "            <th>sum(popularity)</th>\n",
              "        </tr>\n",
              "    </thead>\n",
              "    <tbody>\n",
              "        <tr>\n",
              "            <td>Drama</td>\n",
              "            <td>40805.86819500003</td>\n",
              "        </tr>\n",
              "        <tr>\n",
              "            <td>Action</td>\n",
              "            <td>35705.201004999966</td>\n",
              "        </tr>\n",
              "        <tr>\n",
              "            <td>Comedy</td>\n",
              "            <td>31376.56370299994</td>\n",
              "        </tr>\n",
              "        <tr>\n",
              "            <td>Thriller</td>\n",
              "            <td>31162.137492999955</td>\n",
              "        </tr>\n",
              "        <tr>\n",
              "            <td>Adventure</td>\n",
              "            <td>31021.75317299999</td>\n",
              "        </tr>\n",
              "    </tbody>\n",
              "</table>"
            ]
          },
          "metadata": {},
          "execution_count": 14
        }
      ]
    },
    {
      "cell_type": "markdown",
      "source": [
        "###top 10 films for top 5 genre by popularity"
      ],
      "metadata": {
        "id": "TTK1V39ZQ1I-"
      }
    },
    {
      "cell_type": "code",
      "source": [
        "%%sql\n",
        "select genre_name, title, popularity\n",
        "from movies\n",
        "join genremap on movies.movie_id = genremap.movie_id\n",
        "join genres on genremap.genre_id = genres.genre_id\n",
        "where genre_name in (select genre_name from top_genre)\n",
        "order by popularity desc\n",
        "limit 10;\n"
      ],
      "metadata": {
        "id": "_sxEESkuNEtS",
        "colab": {
          "base_uri": "https://localhost:8080/",
          "height": 289
        },
        "outputId": "dbeab95b-a2cc-48bf-a2bc-d1285e86add5"
      },
      "execution_count": null,
      "outputs": [
        {
          "output_type": "stream",
          "name": "stdout",
          "text": [
            " * sqlite:///TMDB.db\n",
            "Done.\n"
          ]
        },
        {
          "output_type": "execute_result",
          "data": {
            "text/plain": [
              "[('Adventure', 'Minions', 875.581305),\n",
              " ('Comedy', 'Minions', 875.581305),\n",
              " ('Adventure', 'Interstellar', 724.247784),\n",
              " ('Drama', 'Interstellar', 724.247784),\n",
              " ('Adventure', 'Deadpool', 514.569956),\n",
              " ('Action', 'Deadpool', 514.569956),\n",
              " ('Comedy', 'Deadpool', 514.569956),\n",
              " ('Adventure', 'Guardians of the Galaxy', 481.098624),\n",
              " ('Action', 'Guardians of the Galaxy', 481.098624),\n",
              " ('Adventure', 'Mad Max: Fury Road', 434.278564)]"
            ],
            "text/html": [
              "<table>\n",
              "    <thead>\n",
              "        <tr>\n",
              "            <th>genre_name</th>\n",
              "            <th>title</th>\n",
              "            <th>popularity</th>\n",
              "        </tr>\n",
              "    </thead>\n",
              "    <tbody>\n",
              "        <tr>\n",
              "            <td>Adventure</td>\n",
              "            <td>Minions</td>\n",
              "            <td>875.581305</td>\n",
              "        </tr>\n",
              "        <tr>\n",
              "            <td>Comedy</td>\n",
              "            <td>Minions</td>\n",
              "            <td>875.581305</td>\n",
              "        </tr>\n",
              "        <tr>\n",
              "            <td>Adventure</td>\n",
              "            <td>Interstellar</td>\n",
              "            <td>724.247784</td>\n",
              "        </tr>\n",
              "        <tr>\n",
              "            <td>Drama</td>\n",
              "            <td>Interstellar</td>\n",
              "            <td>724.247784</td>\n",
              "        </tr>\n",
              "        <tr>\n",
              "            <td>Adventure</td>\n",
              "            <td>Deadpool</td>\n",
              "            <td>514.569956</td>\n",
              "        </tr>\n",
              "        <tr>\n",
              "            <td>Action</td>\n",
              "            <td>Deadpool</td>\n",
              "            <td>514.569956</td>\n",
              "        </tr>\n",
              "        <tr>\n",
              "            <td>Comedy</td>\n",
              "            <td>Deadpool</td>\n",
              "            <td>514.569956</td>\n",
              "        </tr>\n",
              "        <tr>\n",
              "            <td>Adventure</td>\n",
              "            <td>Guardians of the Galaxy</td>\n",
              "            <td>481.098624</td>\n",
              "        </tr>\n",
              "        <tr>\n",
              "            <td>Action</td>\n",
              "            <td>Guardians of the Galaxy</td>\n",
              "            <td>481.098624</td>\n",
              "        </tr>\n",
              "        <tr>\n",
              "            <td>Adventure</td>\n",
              "            <td>Mad Max: Fury Road</td>\n",
              "            <td>434.278564</td>\n",
              "        </tr>\n",
              "    </tbody>\n",
              "</table>"
            ]
          },
          "metadata": {},
          "execution_count": 15
        }
      ]
    },
    {
      "cell_type": "code",
      "source": [
        "%%sql\n",
        "select genre_name, AVG(revenue)\n",
        "from movies\n",
        "join genremap on movies.movie_id = genremap.movie_id\n",
        "join genres on genremap.genre_id = genres.genre_id\n",
        "group by genre_name\n",
        "order by avg(revenue) desc\n",
        "limit 5;"
      ],
      "metadata": {
        "id": "yDG8MBVLNE-q",
        "colab": {
          "base_uri": "https://localhost:8080/",
          "height": 182
        },
        "outputId": "054234cd-2796-4047-e39b-90f0c2f873d5"
      },
      "execution_count": null,
      "outputs": [
        {
          "output_type": "stream",
          "name": "stdout",
          "text": [
            " * sqlite:///TMDB.db\n",
            "Done.\n"
          ]
        },
        {
          "output_type": "execute_result",
          "data": {
            "text/plain": [
              "[('Animation', 225693025.06410256),\n",
              " ('Adventure', 208660204.4949367),\n",
              " ('Fantasy', 193354245.1061321),\n",
              " ('Family', 162345494.52046785),\n",
              " ('Science Fiction', 152456515.41121495)]"
            ],
            "text/html": [
              "<table>\n",
              "    <thead>\n",
              "        <tr>\n",
              "            <th>genre_name</th>\n",
              "            <th>AVG(revenue)</th>\n",
              "        </tr>\n",
              "    </thead>\n",
              "    <tbody>\n",
              "        <tr>\n",
              "            <td>Animation</td>\n",
              "            <td>225693025.06410256</td>\n",
              "        </tr>\n",
              "        <tr>\n",
              "            <td>Adventure</td>\n",
              "            <td>208660204.4949367</td>\n",
              "        </tr>\n",
              "        <tr>\n",
              "            <td>Fantasy</td>\n",
              "            <td>193354245.1061321</td>\n",
              "        </tr>\n",
              "        <tr>\n",
              "            <td>Family</td>\n",
              "            <td>162345494.52046785</td>\n",
              "        </tr>\n",
              "        <tr>\n",
              "            <td>Science Fiction</td>\n",
              "            <td>152456515.41121495</td>\n",
              "        </tr>\n",
              "    </tbody>\n",
              "</table>"
            ]
          },
          "metadata": {},
          "execution_count": 19
        }
      ]
    },
    {
      "cell_type": "markdown",
      "source": [
        "### ** In conclsion if you want to gain the highest revenue ,you should make a simple formulae of comedy, family, action ,anime and adventure which is seen clearly in the Minions  film**"
      ],
      "metadata": {
        "id": "X7PfLI3BT2qf"
      }
    },
    {
      "cell_type": "markdown",
      "source": [
        "## **Interesed pepole Vote **"
      ],
      "metadata": {
        "id": "201P74HoRW8P"
      }
    },
    {
      "cell_type": "code",
      "source": [
        "%%sql\n",
        "select genres.genre_name, avg(vote_average)\n",
        "from movies\n",
        "join genremap on movies.movie_id = genremap.movie_id\n",
        "join genres on genremap.genre_id = genres.genre_id\n",
        "group by genre_name\n",
        "order by avg(vote_average) desc;"
      ],
      "metadata": {
        "colab": {
          "base_uri": "https://localhost:8080/",
          "height": 502
        },
        "id": "t6ySfDbXZtRq",
        "outputId": "641f4f57-a5b4-4224-8909-e566cec96e2c"
      },
      "execution_count": null,
      "outputs": [
        {
          "output_type": "stream",
          "name": "stdout",
          "text": [
            " * sqlite:////content/drive/MyDrive/TMDB.db\n",
            "Done.\n"
          ]
        },
        {
          "output_type": "execute_result",
          "data": {
            "text/plain": [
              "[('History', 6.71979695431472),\n",
              " ('War', 6.713888888888885),\n",
              " ('Drama', 6.388593818023497),\n",
              " ('Music', 6.355675675675673),\n",
              " ('Foreign', 6.35294117647059),\n",
              " ('Animation', 6.341452991452991),\n",
              " ('Crime', 6.274137931034482),\n",
              " ('Documentary', 6.238181818181817),\n",
              " ('Romance', 6.207718120805371),\n",
              " ('Mystery', 6.183908045977013),\n",
              " ('Western', 6.1780487804878055),\n",
              " ('Adventure', 6.15696202531646),\n",
              " ('Fantasy', 6.09669811320755),\n",
              " ('Family', 6.029629629629634),\n",
              " ('Thriller', 6.010989010989018),\n",
              " ('Science Fiction', 6.005607476635516),\n",
              " ('Action', 5.989514731369155),\n",
              " ('Comedy', 5.945586527293839),\n",
              " ('TV Movie', 5.6625),\n",
              " ('Horror', 5.6265895953757274)]"
            ],
            "text/html": [
              "<table>\n",
              "    <thead>\n",
              "        <tr>\n",
              "            <th>genre_name</th>\n",
              "            <th>avg(vote_average)</th>\n",
              "        </tr>\n",
              "    </thead>\n",
              "    <tbody>\n",
              "        <tr>\n",
              "            <td>History</td>\n",
              "            <td>6.71979695431472</td>\n",
              "        </tr>\n",
              "        <tr>\n",
              "            <td>War</td>\n",
              "            <td>6.713888888888885</td>\n",
              "        </tr>\n",
              "        <tr>\n",
              "            <td>Drama</td>\n",
              "            <td>6.388593818023497</td>\n",
              "        </tr>\n",
              "        <tr>\n",
              "            <td>Music</td>\n",
              "            <td>6.355675675675673</td>\n",
              "        </tr>\n",
              "        <tr>\n",
              "            <td>Foreign</td>\n",
              "            <td>6.35294117647059</td>\n",
              "        </tr>\n",
              "        <tr>\n",
              "            <td>Animation</td>\n",
              "            <td>6.341452991452991</td>\n",
              "        </tr>\n",
              "        <tr>\n",
              "            <td>Crime</td>\n",
              "            <td>6.274137931034482</td>\n",
              "        </tr>\n",
              "        <tr>\n",
              "            <td>Documentary</td>\n",
              "            <td>6.238181818181817</td>\n",
              "        </tr>\n",
              "        <tr>\n",
              "            <td>Romance</td>\n",
              "            <td>6.207718120805371</td>\n",
              "        </tr>\n",
              "        <tr>\n",
              "            <td>Mystery</td>\n",
              "            <td>6.183908045977013</td>\n",
              "        </tr>\n",
              "        <tr>\n",
              "            <td>Western</td>\n",
              "            <td>6.1780487804878055</td>\n",
              "        </tr>\n",
              "        <tr>\n",
              "            <td>Adventure</td>\n",
              "            <td>6.15696202531646</td>\n",
              "        </tr>\n",
              "        <tr>\n",
              "            <td>Fantasy</td>\n",
              "            <td>6.09669811320755</td>\n",
              "        </tr>\n",
              "        <tr>\n",
              "            <td>Family</td>\n",
              "            <td>6.029629629629634</td>\n",
              "        </tr>\n",
              "        <tr>\n",
              "            <td>Thriller</td>\n",
              "            <td>6.010989010989018</td>\n",
              "        </tr>\n",
              "        <tr>\n",
              "            <td>Science Fiction</td>\n",
              "            <td>6.005607476635516</td>\n",
              "        </tr>\n",
              "        <tr>\n",
              "            <td>Action</td>\n",
              "            <td>5.989514731369155</td>\n",
              "        </tr>\n",
              "        <tr>\n",
              "            <td>Comedy</td>\n",
              "            <td>5.945586527293839</td>\n",
              "        </tr>\n",
              "        <tr>\n",
              "            <td>TV Movie</td>\n",
              "            <td>5.6625</td>\n",
              "        </tr>\n",
              "        <tr>\n",
              "            <td>Horror</td>\n",
              "            <td>5.6265895953757274</td>\n",
              "        </tr>\n",
              "    </tbody>\n",
              "</table>"
            ]
          },
          "metadata": {},
          "execution_count": 15
        }
      ]
    },
    {
      "cell_type": "markdown",
      "source": [
        "### Top 5 productaion company according to revenue"
      ],
      "metadata": {
        "id": "8E9FVqkFfiq4"
      }
    },
    {
      "cell_type": "code",
      "source": [
        "%%sql\n",
        "create view  top_company as\n",
        "SELECT productioncompanies.production_company_name as company_name, COUNT(movies.title) as count_of_movie,sum(movies.REVENUE) as revenue ,(sum(movies.revenue)-sum(movies.budget)) as Netprofit\n",
        "FROM movies\n",
        "JOIN productioncompanymap ON movies.movie_id = productioncompanymap.movie_id\n",
        "JOIN productioncompanies ON productioncompanymap.production_company_id = productioncompanies.production_company_id\n",
        "GROUP BY productioncompanies.production_company_name\n",
        "ORDER BY Netprofit DESC\n",
        "limit 5 ;"
      ],
      "metadata": {
        "colab": {
          "base_uri": "https://localhost:8080/"
        },
        "id": "3p0X2y_ZfjzS",
        "outputId": "c681370f-e9ac-4298-c42b-0a7a1ce35d41"
      },
      "execution_count": null,
      "outputs": [
        {
          "output_type": "stream",
          "name": "stdout",
          "text": [
            " * sqlite:///TMDB.db\n",
            "Done.\n"
          ]
        },
        {
          "output_type": "execute_result",
          "data": {
            "text/plain": [
              "[]"
            ]
          },
          "metadata": {},
          "execution_count": 25
        }
      ]
    },
    {
      "cell_type": "code",
      "source": [
        "%%sql\n",
        "select *\n",
        "from top_company"
      ],
      "metadata": {
        "colab": {
          "base_uri": "https://localhost:8080/",
          "height": 182
        },
        "id": "-uwND5vGfkbi",
        "outputId": "1186596a-ce58-4ac7-e24e-74a924a0eaef"
      },
      "execution_count": null,
      "outputs": [
        {
          "output_type": "stream",
          "name": "stdout",
          "text": [
            " * sqlite:///TMDB.db\n",
            "Done.\n"
          ]
        },
        {
          "output_type": "execute_result",
          "data": {
            "text/plain": [
              "[('Warner Bros.', 319, 49155747874.0, 30827753925.0),\n",
              " ('Universal Pictures', 311, 42588465942.0, 28880599669.0),\n",
              " ('Twentieth Century Fox Film Corporation', 222, 39357151309.0, 28529983509.0),\n",
              " ('Paramount Pictures', 285, 40878523165.0, 27568910158.0),\n",
              " ('Walt Disney Pictures', 114, 28683256048.0, 19099976048.0)]"
            ],
            "text/html": [
              "<table>\n",
              "    <thead>\n",
              "        <tr>\n",
              "            <th>company_name</th>\n",
              "            <th>count_of_movie</th>\n",
              "            <th>revenue</th>\n",
              "            <th>Netprofit</th>\n",
              "        </tr>\n",
              "    </thead>\n",
              "    <tbody>\n",
              "        <tr>\n",
              "            <td>Warner Bros.</td>\n",
              "            <td>319</td>\n",
              "            <td>49155747874.0</td>\n",
              "            <td>30827753925.0</td>\n",
              "        </tr>\n",
              "        <tr>\n",
              "            <td>Universal Pictures</td>\n",
              "            <td>311</td>\n",
              "            <td>42588465942.0</td>\n",
              "            <td>28880599669.0</td>\n",
              "        </tr>\n",
              "        <tr>\n",
              "            <td>Twentieth Century Fox Film Corporation</td>\n",
              "            <td>222</td>\n",
              "            <td>39357151309.0</td>\n",
              "            <td>28529983509.0</td>\n",
              "        </tr>\n",
              "        <tr>\n",
              "            <td>Paramount Pictures</td>\n",
              "            <td>285</td>\n",
              "            <td>40878523165.0</td>\n",
              "            <td>27568910158.0</td>\n",
              "        </tr>\n",
              "        <tr>\n",
              "            <td>Walt Disney Pictures</td>\n",
              "            <td>114</td>\n",
              "            <td>28683256048.0</td>\n",
              "            <td>19099976048.0</td>\n",
              "        </tr>\n",
              "    </tbody>\n",
              "</table>"
            ]
          },
          "metadata": {},
          "execution_count": 26
        }
      ]
    },
    {
      "cell_type": "markdown",
      "source": [
        "### **according to this the most  net prorit campany per film is Twentieth Century Fox Film Corporation **"
      ],
      "metadata": {
        "id": "ymoP_a56TREI"
      }
    },
    {
      "cell_type": "markdown",
      "source": [
        "### Top 10 films for top 5 company according to revenue"
      ],
      "metadata": {
        "id": "MNxgNoq_mpEN"
      }
    },
    {
      "cell_type": "code",
      "source": [
        "%%sql\n",
        "select productioncompanies.production_company_name  , title, revenue\n",
        "from movies\n",
        "JOIN productioncompanymap ON movies.movie_id = productioncompanymap.movie_id\n",
        "JOIN productioncompanies ON productioncompanymap.production_company_id = productioncompanies.production_company_id\n",
        "where productioncompanies.production_company_name in (select company_name from top_company)\n",
        "order by revenue desc\n",
        "limit 10;"
      ],
      "metadata": {
        "colab": {
          "base_uri": "https://localhost:8080/",
          "height": 289
        },
        "id": "jqH7HMRYmpio",
        "outputId": "899e6be8-e7c8-4ae5-91eb-005756b5e3a6"
      },
      "execution_count": null,
      "outputs": [
        {
          "output_type": "stream",
          "name": "stdout",
          "text": [
            " * sqlite:///TMDB.db\n",
            "Done.\n"
          ]
        },
        {
          "output_type": "execute_result",
          "data": {
            "text/plain": [
              "[('Twentieth Century Fox Film Corporation', 'Avatar', 2787965087.0),\n",
              " ('Paramount Pictures', 'Titanic', 1845034188.0),\n",
              " ('Twentieth Century Fox Film Corporation', 'Titanic', 1845034188.0),\n",
              " ('Paramount Pictures', 'The Avengers', 1519557910.0),\n",
              " ('Universal Pictures', 'Furious 7', 1506249360.0),\n",
              " ('Walt Disney Pictures', 'Frozen', 1274219009.0),\n",
              " ('Universal Pictures', 'Minions', 1156730962.0),\n",
              " ('Paramount Pictures', 'Transformers: Dark of the Moon', 1123746996.0),\n",
              " ('Paramount Pictures', 'Transformers: Age of Extinction', 1091405097.0),\n",
              " ('Warner Bros.', 'The Dark Knight Rises', 1084939099.0)]"
            ],
            "text/html": [
              "<table>\n",
              "    <thead>\n",
              "        <tr>\n",
              "            <th>production_company_name</th>\n",
              "            <th>title</th>\n",
              "            <th>revenue</th>\n",
              "        </tr>\n",
              "    </thead>\n",
              "    <tbody>\n",
              "        <tr>\n",
              "            <td>Twentieth Century Fox Film Corporation</td>\n",
              "            <td>Avatar</td>\n",
              "            <td>2787965087.0</td>\n",
              "        </tr>\n",
              "        <tr>\n",
              "            <td>Paramount Pictures</td>\n",
              "            <td>Titanic</td>\n",
              "            <td>1845034188.0</td>\n",
              "        </tr>\n",
              "        <tr>\n",
              "            <td>Twentieth Century Fox Film Corporation</td>\n",
              "            <td>Titanic</td>\n",
              "            <td>1845034188.0</td>\n",
              "        </tr>\n",
              "        <tr>\n",
              "            <td>Paramount Pictures</td>\n",
              "            <td>The Avengers</td>\n",
              "            <td>1519557910.0</td>\n",
              "        </tr>\n",
              "        <tr>\n",
              "            <td>Universal Pictures</td>\n",
              "            <td>Furious 7</td>\n",
              "            <td>1506249360.0</td>\n",
              "        </tr>\n",
              "        <tr>\n",
              "            <td>Walt Disney Pictures</td>\n",
              "            <td>Frozen</td>\n",
              "            <td>1274219009.0</td>\n",
              "        </tr>\n",
              "        <tr>\n",
              "            <td>Universal Pictures</td>\n",
              "            <td>Minions</td>\n",
              "            <td>1156730962.0</td>\n",
              "        </tr>\n",
              "        <tr>\n",
              "            <td>Paramount Pictures</td>\n",
              "            <td>Transformers: Dark of the Moon</td>\n",
              "            <td>1123746996.0</td>\n",
              "        </tr>\n",
              "        <tr>\n",
              "            <td>Paramount Pictures</td>\n",
              "            <td>Transformers: Age of Extinction</td>\n",
              "            <td>1091405097.0</td>\n",
              "        </tr>\n",
              "        <tr>\n",
              "            <td>Warner Bros.</td>\n",
              "            <td>The Dark Knight Rises</td>\n",
              "            <td>1084939099.0</td>\n",
              "        </tr>\n",
              "    </tbody>\n",
              "</table>"
            ]
          },
          "metadata": {},
          "execution_count": 30
        }
      ]
    },
    {
      "cell_type": "markdown",
      "source": [
        "###top 5 budget"
      ],
      "metadata": {
        "id": "wwZuXR-2l3Ki"
      }
    },
    {
      "cell_type": "code",
      "source": [
        "%%sql\n",
        "select title ,budget\n",
        "from movies\n",
        "order by budget desc\n",
        "limit 10;"
      ],
      "metadata": {
        "colab": {
          "base_uri": "https://localhost:8080/",
          "height": 289
        },
        "id": "87g2L_O7fPSv",
        "outputId": "d04c1553-09f6-44c4-8248-f783754d7cb7"
      },
      "execution_count": null,
      "outputs": [
        {
          "output_type": "stream",
          "name": "stdout",
          "text": [
            " * sqlite:///TMDB.db\n",
            "Done.\n"
          ]
        },
        {
          "output_type": "execute_result",
          "data": {
            "text/plain": [
              "[('Pirates of the Caribbean: On Stranger Tides', 380000000),\n",
              " (\"Pirates of the Caribbean: At World's End\", 300000000),\n",
              " ('Avengers: Age of Ultron', 280000000),\n",
              " ('Superman Returns', 270000000),\n",
              " ('Tangled', 260000000),\n",
              " ('John Carter', 260000000),\n",
              " ('Spider-Man 3', 258000000),\n",
              " ('The Lone Ranger', 255000000),\n",
              " ('Harry Potter and the Half-Blood Prince', 250000000),\n",
              " ('The Dark Knight Rises', 250000000)]"
            ],
            "text/html": [
              "<table>\n",
              "    <thead>\n",
              "        <tr>\n",
              "            <th>title</th>\n",
              "            <th>budget</th>\n",
              "        </tr>\n",
              "    </thead>\n",
              "    <tbody>\n",
              "        <tr>\n",
              "            <td>Pirates of the Caribbean: On Stranger Tides</td>\n",
              "            <td>380000000</td>\n",
              "        </tr>\n",
              "        <tr>\n",
              "            <td>Pirates of the Caribbean: At World&#x27;s End</td>\n",
              "            <td>300000000</td>\n",
              "        </tr>\n",
              "        <tr>\n",
              "            <td>Avengers: Age of Ultron</td>\n",
              "            <td>280000000</td>\n",
              "        </tr>\n",
              "        <tr>\n",
              "            <td>Superman Returns</td>\n",
              "            <td>270000000</td>\n",
              "        </tr>\n",
              "        <tr>\n",
              "            <td>Tangled</td>\n",
              "            <td>260000000</td>\n",
              "        </tr>\n",
              "        <tr>\n",
              "            <td>John Carter</td>\n",
              "            <td>260000000</td>\n",
              "        </tr>\n",
              "        <tr>\n",
              "            <td>Spider-Man 3</td>\n",
              "            <td>258000000</td>\n",
              "        </tr>\n",
              "        <tr>\n",
              "            <td>The Lone Ranger</td>\n",
              "            <td>255000000</td>\n",
              "        </tr>\n",
              "        <tr>\n",
              "            <td>Harry Potter and the Half-Blood Prince</td>\n",
              "            <td>250000000</td>\n",
              "        </tr>\n",
              "        <tr>\n",
              "            <td>The Dark Knight Rises</td>\n",
              "            <td>250000000</td>\n",
              "        </tr>\n",
              "    </tbody>\n",
              "</table>"
            ]
          },
          "metadata": {},
          "execution_count": 43
        }
      ]
    },
    {
      "cell_type": "markdown",
      "source": [
        "###Analyze movie budgets and revenues."
      ],
      "metadata": {
        "id": "XAsaBIRILr4v"
      }
    },
    {
      "cell_type": "code",
      "source": [
        "%%sql\n",
        "select title, budget, revenue ,(revenue-budget) as netprofit\n",
        "from movies\n",
        "order by budget desc , revenue desc\n",
        "limit 10;"
      ],
      "metadata": {
        "id": "CAhDa71eLs2L",
        "colab": {
          "base_uri": "https://localhost:8080/",
          "height": 289
        },
        "outputId": "273a1096-af8d-4dea-c91f-684197522166"
      },
      "execution_count": null,
      "outputs": [
        {
          "output_type": "stream",
          "name": "stdout",
          "text": [
            " * sqlite:////content/drive/MyDrive/TMDB.db\n",
            "Done.\n"
          ]
        },
        {
          "output_type": "execute_result",
          "data": {
            "text/plain": [
              "[('Pirates of the Caribbean: On Stranger Tides', 380000000, 1045713802.0, 665713802.0),\n",
              " (\"Pirates of the Caribbean: At World's End\", 300000000, 961000000.0, 661000000.0),\n",
              " ('Avengers: Age of Ultron', 280000000, 1405403694.0, 1125403694.0),\n",
              " ('Superman Returns', 270000000, 391081192.0, 121081192.0),\n",
              " ('Tangled', 260000000, 591794936.0, 331794936.0),\n",
              " ('John Carter', 260000000, 284139100.0, 24139100.0),\n",
              " ('Spider-Man 3', 258000000, 890871626.0, 632871626.0),\n",
              " ('The Lone Ranger', 255000000, 89289910.0, -165710090.0),\n",
              " ('Captain America: Civil War', 250000000, 1153304495.0, 903304495.0),\n",
              " ('The Dark Knight Rises', 250000000, 1084939099.0, 834939099.0)]"
            ],
            "text/html": [
              "<table>\n",
              "    <thead>\n",
              "        <tr>\n",
              "            <th>title</th>\n",
              "            <th>budget</th>\n",
              "            <th>revenue</th>\n",
              "            <th>netprofit</th>\n",
              "        </tr>\n",
              "    </thead>\n",
              "    <tbody>\n",
              "        <tr>\n",
              "            <td>Pirates of the Caribbean: On Stranger Tides</td>\n",
              "            <td>380000000</td>\n",
              "            <td>1045713802.0</td>\n",
              "            <td>665713802.0</td>\n",
              "        </tr>\n",
              "        <tr>\n",
              "            <td>Pirates of the Caribbean: At World&#x27;s End</td>\n",
              "            <td>300000000</td>\n",
              "            <td>961000000.0</td>\n",
              "            <td>661000000.0</td>\n",
              "        </tr>\n",
              "        <tr>\n",
              "            <td>Avengers: Age of Ultron</td>\n",
              "            <td>280000000</td>\n",
              "            <td>1405403694.0</td>\n",
              "            <td>1125403694.0</td>\n",
              "        </tr>\n",
              "        <tr>\n",
              "            <td>Superman Returns</td>\n",
              "            <td>270000000</td>\n",
              "            <td>391081192.0</td>\n",
              "            <td>121081192.0</td>\n",
              "        </tr>\n",
              "        <tr>\n",
              "            <td>Tangled</td>\n",
              "            <td>260000000</td>\n",
              "            <td>591794936.0</td>\n",
              "            <td>331794936.0</td>\n",
              "        </tr>\n",
              "        <tr>\n",
              "            <td>John Carter</td>\n",
              "            <td>260000000</td>\n",
              "            <td>284139100.0</td>\n",
              "            <td>24139100.0</td>\n",
              "        </tr>\n",
              "        <tr>\n",
              "            <td>Spider-Man 3</td>\n",
              "            <td>258000000</td>\n",
              "            <td>890871626.0</td>\n",
              "            <td>632871626.0</td>\n",
              "        </tr>\n",
              "        <tr>\n",
              "            <td>The Lone Ranger</td>\n",
              "            <td>255000000</td>\n",
              "            <td>89289910.0</td>\n",
              "            <td>-165710090.0</td>\n",
              "        </tr>\n",
              "        <tr>\n",
              "            <td>Captain America: Civil War</td>\n",
              "            <td>250000000</td>\n",
              "            <td>1153304495.0</td>\n",
              "            <td>903304495.0</td>\n",
              "        </tr>\n",
              "        <tr>\n",
              "            <td>The Dark Knight Rises</td>\n",
              "            <td>250000000</td>\n",
              "            <td>1084939099.0</td>\n",
              "            <td>834939099.0</td>\n",
              "        </tr>\n",
              "    </tbody>\n",
              "</table>"
            ]
          },
          "metadata": {},
          "execution_count": 11
        }
      ]
    },
    {
      "cell_type": "markdown",
      "source": [
        "*The factor to saw that film is successful is net brofit not revenue or budget as there are alot of films has low budget and high revenue vice versa like the The Lone Ranger has one of 10 high budget films but don't make revenue."
      ],
      "metadata": {
        "id": "clfIyyQmSimv"
      }
    },
    {
      "cell_type": "markdown",
      "source": [
        "## **Top 10 campany wins oscar**"
      ],
      "metadata": {
        "id": "kIhz2DEwXvZR"
      }
    },
    {
      "cell_type": "code",
      "source": [
        "%%sql\n",
        "select film, count (film)\n",
        "from oscars\n",
        "group by film\n",
        "order by count(film) desc\n",
        "limit 10;"
      ],
      "metadata": {
        "id": "xybEPp8-Lr8u",
        "colab": {
          "base_uri": "https://localhost:8080/",
          "height": 289
        },
        "outputId": "b15a64be-ddda-4e9c-9d82-4e9d55717bcf"
      },
      "execution_count": null,
      "outputs": [
        {
          "output_type": "stream",
          "name": "stdout",
          "text": [
            " * sqlite:///TMDB.db\n",
            "Done.\n"
          ]
        },
        {
          "output_type": "execute_result",
          "data": {
            "text/plain": [
              "[('Metro-Goldwyn-Mayer', 60),\n",
              " ('Walt Disney, Producer', 57),\n",
              " ('Warner Brothers', 42),\n",
              " ('John Williams', 42),\n",
              " ('France', 36),\n",
              " ('Alfred Newman', 34),\n",
              " ('Italy', 27),\n",
              " ('Paramount', 24),\n",
              " ('Gordon Hollingshead, Producer', 22),\n",
              " ('Edith Head', 22)]"
            ],
            "text/html": [
              "<table>\n",
              "    <thead>\n",
              "        <tr>\n",
              "            <th>film</th>\n",
              "            <th>count (film)</th>\n",
              "        </tr>\n",
              "    </thead>\n",
              "    <tbody>\n",
              "        <tr>\n",
              "            <td>Metro-Goldwyn-Mayer</td>\n",
              "            <td>60</td>\n",
              "        </tr>\n",
              "        <tr>\n",
              "            <td>Walt Disney, Producer</td>\n",
              "            <td>57</td>\n",
              "        </tr>\n",
              "        <tr>\n",
              "            <td>Warner Brothers</td>\n",
              "            <td>42</td>\n",
              "        </tr>\n",
              "        <tr>\n",
              "            <td>John Williams</td>\n",
              "            <td>42</td>\n",
              "        </tr>\n",
              "        <tr>\n",
              "            <td>France</td>\n",
              "            <td>36</td>\n",
              "        </tr>\n",
              "        <tr>\n",
              "            <td>Alfred Newman</td>\n",
              "            <td>34</td>\n",
              "        </tr>\n",
              "        <tr>\n",
              "            <td>Italy</td>\n",
              "            <td>27</td>\n",
              "        </tr>\n",
              "        <tr>\n",
              "            <td>Paramount</td>\n",
              "            <td>24</td>\n",
              "        </tr>\n",
              "        <tr>\n",
              "            <td>Gordon Hollingshead, Producer</td>\n",
              "            <td>22</td>\n",
              "        </tr>\n",
              "        <tr>\n",
              "            <td>Edith Head</td>\n",
              "            <td>22</td>\n",
              "        </tr>\n",
              "    </tbody>\n",
              "</table>"
            ]
          },
          "metadata": {},
          "execution_count": 30
        }
      ]
    },
    {
      "cell_type": "markdown",
      "source": [],
      "metadata": {
        "id": "GzLrCitzZJ84"
      }
    },
    {
      "cell_type": "markdown",
      "metadata": {
        "id": "fEwLwzDLv9If"
      },
      "source": [
        "### Question 14\n",
        "# Visualization with Python\n",
        "\n",
        "You can choose **any table** from the database and create visualizations using Python libraries like **Matplotlib** or **Seaborn**. The goal is to explore and understand the data through visual analysis.\n",
        "\n",
        "For example, you could create a **bar chart** to show the number of movies in each genre or a **scatter plot** to compare movie **budget vs. revenue**.\n",
        "\n",
        "You can also **combine data from multiple tables** (using SQL joins) to create more complex visualizations. For instance, you might join the **Movies** table with the **Genres** table to show which genres have the highest-rated movies.\n",
        "\n",
        "\n",
        "\n",
        "### Example Ideas:\n",
        "- **Genres**: Visualize the most popular genres by the number of movies.\n",
        "- **Budget vs Revenue**: Analyze the relationship between movie budget and revenue.\n",
        "- **Languages**: Show the distribution of movies by language using a pie chart.\n",
        "- **Movie Trends**: Visualize how the number of movie releases has changed over the years.\n",
        "\n",
        "\n"
      ]
    },
    {
      "cell_type": "code",
      "execution_count": null,
      "metadata": {
        "id": "2p7550USv9Ig"
      },
      "outputs": [],
      "source": []
    }
  ],
  "metadata": {
    "colab": {
      "provenance": []
    },
    "kernelspec": {
      "display_name": "Python 3",
      "language": "python",
      "name": "python3"
    },
    "language_info": {
      "codemirror_mode": {
        "name": "ipython",
        "version": 3
      },
      "file_extension": ".py",
      "mimetype": "text/x-python",
      "name": "python",
      "nbconvert_exporter": "python",
      "pygments_lexer": "ipython3",
      "version": "3.8.5"
    }
  },
  "nbformat": 4,
  "nbformat_minor": 0
}